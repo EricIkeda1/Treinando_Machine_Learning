{
  "nbformat": 4,
  "nbformat_minor": 0,
  "metadata": {
    "colab": {
      "provenance": []
    },
    "kernelspec": {
      "name": "python3",
      "display_name": "Python 3"
    },
    "language_info": {
      "name": "python"
    }
  },
  "cells": [
    {
      "cell_type": "code",
      "source": [
        "import kagglehub\n",
        "import pandas as pd\n",
        "from sklearn.datasets import load_iris\n",
        "from sklearn.model_selection import train_test_split\n",
        "from sklearn.tree import DecisionTreeClassifier\n",
        "from sklearn.neighbors import KNeighborsClassifier\n",
        "from sklearn.linear_model import LogisticRegression\n",
        "from sklearn.metrics import accuracy_score"
      ],
      "metadata": {
        "id": "Z_gZiMf2e8BO"
      },
      "execution_count": null,
      "outputs": []
    },
    {
      "cell_type": "markdown",
      "source": [
        "#Baixar o dataset iris"
      ],
      "metadata": {
        "id": "z82kg4eve7rn"
      }
    },
    {
      "cell_type": "code",
      "execution_count": null,
      "metadata": {
        "colab": {
          "base_uri": "https://localhost:8080/"
        },
        "id": "ZadQNUbTek3U",
        "outputId": "79cb386e-5dd5-42a3-8071-83e5d7829792"
      },
      "outputs": [
        {
          "output_type": "stream",
          "name": "stdout",
          "text": [
            "Path to dataset files: /kaggle/input/iris-dataset\n"
          ]
        }
      ],
      "source": [
        "path = kagglehub.dataset_download(\"himanshunakrani/iris-dataset\")\n",
        "print(\"Path to dataset files:\", path)"
      ]
    },
    {
      "cell_type": "markdown",
      "source": [
        "#1. Carregar o dataset\n",
        "\n",
        "- Use o load_iris do scikit-learn ou baixe o CSV no Kaggle.\n",
        "\n",
        "- O dataset tem 150 flores divididas em 3 classes: setosa, versicolor, virginica.\n",
        "\n",
        "- Cada amostra tem 4 variáveis: comprimento e largura da sépala e da pétala."
      ],
      "metadata": {
        "id": "LvzI-0IdfHme"
      }
    },
    {
      "cell_type": "code",
      "source": [
        "iris = load_iris()\n",
        "X = iris.data\n",
        "y = iris.target\n",
        "\n",
        "# Criar DataFrame e renomear colunas para português\n",
        "df = pd.DataFrame(X, columns=[\n",
        "    'Comprimento Sépalas (cm)',\n",
        "    'Largura Sépalas (cm)',\n",
        "    'Comprimento Pétalas (cm)',\n",
        "    'Largura Pétalas (cm)'\n",
        "])\n",
        "\n",
        "df['Flor'] = [iris.target_names[i] for i in y]\n",
        "\n",
        "# Mostrar informações\n",
        "print(\"Primeiras 10 amostras:\")\n",
        "print(df.head(10).to_string(index=False))\n"
      ],
      "metadata": {
        "colab": {
          "base_uri": "https://localhost:8080/"
        },
        "id": "9MBh1v_ggRHN",
        "outputId": "f2e82029-99b7-44b7-c12a-278f0c2ee3d8"
      },
      "execution_count": null,
      "outputs": [
        {
          "output_type": "stream",
          "name": "stdout",
          "text": [
            "Primeiras 10 amostras:\n",
            " Comprimento Sépalas (cm)  Largura Sépalas (cm)  Comprimento Pétalas (cm)  Largura Pétalas (cm)   Flor\n",
            "                      5.1                   3.5                       1.4                   0.2 setosa\n",
            "                      4.9                   3.0                       1.4                   0.2 setosa\n",
            "                      4.7                   3.2                       1.3                   0.2 setosa\n",
            "                      4.6                   3.1                       1.5                   0.2 setosa\n",
            "                      5.0                   3.6                       1.4                   0.2 setosa\n",
            "                      5.4                   3.9                       1.7                   0.4 setosa\n",
            "                      4.6                   3.4                       1.4                   0.3 setosa\n",
            "                      5.0                   3.4                       1.5                   0.2 setosa\n",
            "                      4.4                   2.9                       1.4                   0.2 setosa\n",
            "                      4.9                   3.1                       1.5                   0.1 setosa\n"
          ]
        }
      ]
    },
    {
      "cell_type": "markdown",
      "source": [
        "#2. Dividir em treino e teste\n",
        "\n",
        "- Use 70% para treino e 30% para teste (ou 80/20).\n",
        "\n",
        "- Garanta que os dados de teste não sejam usados no treino."
      ],
      "metadata": {
        "id": "fAT0yhIffSRW"
      }
    },
    {
      "cell_type": "code",
      "source": [
        "# Carregar dataset Iris\n",
        "iris = load_iris()\n",
        "X = iris.data\n",
        "y = iris.target\n",
        "\n",
        "# Dividir em treino (70%) e teste (30%)\n",
        "X_train, X_test, y_train, y_test = train_test_split(\n",
        "    X, y, test_size=0.3, random_state=42, stratify=y\n",
        ")\n",
        "\n",
        "# Mostrar tamanhos dos conjuntos\n",
        "print(\"Tamanho do conjunto de treino:\", X_train.shape[0])\n",
        "print(\"Tamanho do conjunto de teste :\", X_test.shape[0])\n"
      ],
      "metadata": {
        "colab": {
          "base_uri": "https://localhost:8080/"
        },
        "id": "yNUHmXamgRjV",
        "outputId": "3b577c6e-6579-473a-c3f5-d6d570088da3"
      },
      "execution_count": null,
      "outputs": [
        {
          "output_type": "stream",
          "name": "stdout",
          "text": [
            "Tamanho do conjunto de treino: 105\n",
            "Tamanho do conjunto de teste : 45\n"
          ]
        }
      ]
    },
    {
      "cell_type": "markdown",
      "source": [
        "# 3. Treinar 3 modelos diferentes\n",
        "Sugestão:\n",
        "- 1.Árvore de Decisão (DecisionTreeClassifier) - fácil de interpretar.\n",
        "- 2.K-NN (KNeighborsClassifier) - usa vizinhos mais próximos.\n",
        "- 3.Regressão Logística (LogisticRegression) - modelo linear, muito usado em classificação."
      ],
      "metadata": {
        "id": "lOpfTOZxfYP-"
      }
    },
    {
      "cell_type": "code",
      "source": [
        "# 1. Árvore de Decisão\n",
        "dt_model = DecisionTreeClassifier(random_state=42)\n",
        "dt_model.fit(X_train, y_train)\n",
        "y_pred_dt = dt_model.predict(X_test)\n",
        "acc_dt = accuracy_score(y_test, y_pred_dt)\n",
        "\n",
        "# 2. K-NN\n",
        "knn_model = KNeighborsClassifier(n_neighbors=3)\n",
        "knn_model.fit(X_train, y_train)\n",
        "y_pred_knn = knn_model.predict(X_test)\n",
        "acc_knn = accuracy_score(y_test, y_pred_knn)\n",
        "\n",
        "# 3. Regressão Logística\n",
        "lr_model = LogisticRegression(max_iter=200)\n",
        "lr_model.fit(X_train, y_train)\n",
        "y_pred_lr = lr_model.predict(X_test)\n",
        "acc_lr = accuracy_score(y_test, y_pred_lr)\n",
        "\n",
        "# Comparar acurácias\n",
        "print(\"Acurácia Árvore de Decisão  :\", acc_dt)\n",
        "print(\"Acurácia K-NN               :\", acc_knn)\n",
        "print(\"Acurácia Regressão Logística:\", acc_lr)\n"
      ],
      "metadata": {
        "colab": {
          "base_uri": "https://localhost:8080/"
        },
        "id": "HeJR3C2pgSCE",
        "outputId": "afa37e1d-ceb9-44c2-b98f-4fd39d61658c"
      },
      "execution_count": null,
      "outputs": [
        {
          "output_type": "stream",
          "name": "stdout",
          "text": [
            "Acurácia Árvore de Decisão  : 0.9333333333333333\n",
            "Acurácia K-NN               : 0.9555555555555556\n",
            "Acurácia Regressão Logística: 0.9333333333333333\n"
          ]
        }
      ]
    },
    {
      "cell_type": "markdown",
      "source": [
        "#4. Comparar acurácias\n",
        "\n",
        "- Calcule a acurácia de cada modelo no conjunto de teste.\n",
        "\n",
        "- Exemplo esperado (não é fixo):\n",
        "\n",
        "- Árvore de Decisão → 96%\n",
        "\n",
        "- K-NN → 94%\n",
        "\n",
        "- Regressão Logística → 97%"
      ],
      "metadata": {
        "id": "qVu_c8kjf0Eu"
      }
    },
    {
      "cell_type": "code",
      "source": [
        "# Criar DataFrame com os resultados\n",
        "resultados = pd.DataFrame({\n",
        "    \"Modelo\": [\"Árvore de Decisão\", \"K-NN\", \"Regressão Logística\"],\n",
        "    \"Acurácia\": [acc_dt, acc_knn, acc_lr]\n",
        "})\n",
        "\n",
        "# Mostrar resultados em porcentagem\n",
        "resultados[\"Acurácia (%)\"] = resultados[\"Acurácia\"] * 100\n",
        "\n",
        "# Organizar colunas\n",
        "resultados = resultados[[\"Modelo\", \"Acurácia (%)\"]]\n",
        "\n",
        "# Exibir tabela\n",
        "print(resultados.to_string(index=False))"
      ],
      "metadata": {
        "colab": {
          "base_uri": "https://localhost:8080/"
        },
        "id": "thoSR6ACgSav",
        "outputId": "0f5bd1a0-11b0-4a44-ad49-e445f7bd719d"
      },
      "execution_count": null,
      "outputs": [
        {
          "output_type": "stream",
          "name": "stdout",
          "text": [
            "             Modelo  Acurácia (%)\n",
            "  Árvore de Decisão     93.333333\n",
            "               K-NN     95.555556\n",
            "Regressão Logística     93.333333\n"
          ]
        }
      ]
    },
    {
      "cell_type": "markdown",
      "source": [
        "# 5. Explicar qual funcionou melhor\n",
        "\n",
        "- O resultado pode variar conforme divisão treino/teste.\n",
        "\n",
        "- A Regressão Logística costuma ir bem porque as classes são quase linearmente separáveis.\n",
        "\n",
        "- A Árvore de Decisão pode acertar quase tudo, mas cuidado com overfitting.\n",
        "\n",
        "- O K-NN depende do número de vizinhos (k), então teste diferentes valores de k."
      ],
      "metadata": {
        "id": "-0GRtLDYf8El"
      }
    },
    {
      "cell_type": "markdown",
      "source": [
        "# 6.Resultados\n",
        "\n",
        "**K-NN** teve a melhor acurácia (95,56%)  \n",
        "\n",
        "Isso significa que, com o valor de **k** que você usou (provavelmente k=3), o modelo conseguiu classificar melhor as flores no conjunto de teste.  \n",
        "\n",
        "K-NN funciona bem em datasets pequenos e com classes separáveis.  \n",
        "\n",
        "**Árvore de Decisão** e **Regressão Logística** ficaram empatadas em 93,33%  \n",
        "\n",
        "- **Árvore de Decisão**: pode capturar relações não lineares, mas cuidado com overfitting (funciona muito bem no treino, mas pode falhar em novos dados).  \n",
        "- **Regressão Logística**: modelo linear, funciona bem porque as classes Iris são quase linearmente separáveis.  \n",
        "\n",
        "**Observação geral:**  \n",
        "\n",
        "- O resultado pode variar se você mudar a divisão treino/teste (`random_state`) ou o número de vizinhos em K-NN (`k`).  \n",
        "- Para K-NN, vale testar **k=1, 3, 5, 7** e comparar acurácias para achar o melhor valor.\n"
      ],
      "metadata": {
        "id": "rzLisLaBjEwc"
      }
    }
  ]
}